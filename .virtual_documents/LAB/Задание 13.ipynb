import pandas as pd

# Создаем Series с индексами в виде строк дат
dates = ['2024-03-10', '2024-03-11', '2024-03-12']
data = [100, 200, 300]
series = pd.Series(data, index=dates)

# Преобразуем индексы в DatetimeIndex
series.index = pd.to_datetime(series.index)

# Выводим тип данных индекса
print("Тип данных индекса:")
print(series.index.dtype)

# Выводим Series с DatetimeIndex
print("\nSeries с DatetimeIndex:")
print(series)

