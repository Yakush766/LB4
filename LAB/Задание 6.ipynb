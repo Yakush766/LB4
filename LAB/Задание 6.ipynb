{
 "cells": [
  {
   "cell_type": "code",
   "execution_count": 1,
   "id": "a9d0ea95-42da-4b73-b419-738ea22320df",
   "metadata": {},
   "outputs": [
    {
     "name": "stdout",
     "output_type": "stream",
     "text": [
      "Индексы элементов, являющихся NaN:\n",
      "Index([1, 3], dtype='int64')\n"
     ]
    }
   ],
   "source": [
    "import pandas as pd\n",
    "import numpy as np\n",
    "\n",
    "# Создаем Series с данными, содержащими пропущенные значения (np.nan)\n",
    "data = [1.2, np.nan, 3.4, np.nan, 5.6, 6.8]\n",
    "series = pd.Series(data)\n",
    "\n",
    "# Проверяем, есть ли в Series пропущенные значения (NaN)\n",
    "nan_mask = series.isnull()\n",
    "\n",
    "# Выводим индексы элементов, которые являются NaN\n",
    "nan_indices = nan_mask[nan_mask].index\n",
    "print(\"Индексы элементов, являющихся NaN:\")\n",
    "print(nan_indices)\n"
   ]
  }
 ],
 "metadata": {
  "kernelspec": {
   "display_name": "Python 3 (ipykernel)",
   "language": "python",
   "name": "python3"
  },
  "language_info": {
   "codemirror_mode": {
    "name": "ipython",
    "version": 3
   },
   "file_extension": ".py",
   "mimetype": "text/x-python",
   "name": "python",
   "nbconvert_exporter": "python",
   "pygments_lexer": "ipython3",
   "version": "3.12.7"
  }
 },
 "nbformat": 4,
 "nbformat_minor": 5
}
