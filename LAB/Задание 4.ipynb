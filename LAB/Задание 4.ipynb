{
 "cells": [
  {
   "cell_type": "code",
   "execution_count": 1,
   "id": "c9ae283a-7d7a-42ce-bb35-cb4aa5f7c1f4",
   "metadata": {},
   "outputs": [
    {
     "name": "stdout",
     "output_type": "stream",
     "text": [
      "Первые 7 элементов:\n",
      "0     3\n",
      "1    22\n",
      "2    83\n",
      "3    12\n",
      "4    76\n",
      "5    61\n",
      "6     3\n",
      "dtype: int32\n",
      "\n",
      "Последние 5 элементов:\n",
      "45    67\n",
      "46    10\n",
      "47    59\n",
      "48    78\n",
      "49    81\n",
      "dtype: int32\n"
     ]
    }
   ],
   "source": [
    "import pandas as pd\n",
    "import numpy as np\n",
    "\n",
    "# Создаем Series, содержащий 50 случайных целых чисел от 1 до 100\n",
    "data = np.random.randint(1, 101, 50)  # От 1 (включительно) до 101 (не включительно)\n",
    "series = pd.Series(data)\n",
    "\n",
    "# Выводим первые 7 элементов\n",
    "print(\"Первые 7 элементов:\")\n",
    "print(series.head(7))\n",
    "\n",
    "# Выводим последние 5 элементов\n",
    "print(\"\\nПоследние 5 элементов:\")\n",
    "print(series.tail(5))\n"
   ]
  }
 ],
 "metadata": {
  "kernelspec": {
   "display_name": "Python 3 (ipykernel)",
   "language": "python",
   "name": "python3"
  },
  "language_info": {
   "codemirror_mode": {
    "name": "ipython",
    "version": 3
   },
   "file_extension": ".py",
   "mimetype": "text/x-python",
   "name": "python",
   "nbconvert_exporter": "python",
   "pygments_lexer": "ipython3",
   "version": "3.12.7"
  }
 },
 "nbformat": 4,
 "nbformat_minor": 5
}
