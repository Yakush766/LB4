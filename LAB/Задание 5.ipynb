{
 "cells": [
  {
   "cell_type": "code",
   "execution_count": 1,
   "id": "5e088b05-cf4b-4973-86f5-e9b48d395196",
   "metadata": {},
   "outputs": [
    {
     "name": "stdout",
     "output_type": "stream",
     "text": [
      "Исходный тип данных Series:\n",
      "object\n",
      "\n",
      "Тип данных Series после преобразования в 'category':\n",
      "category\n"
     ]
    }
   ],
   "source": [
    "import pandas as pd\n",
    "\n",
    "# Создаем Series из списка строк\n",
    "data = ['cat', 'dog', 'rabbit', 'parrot', 'fish']\n",
    "series = pd.Series(data)\n",
    "\n",
    "# Определяем тип данных Series\n",
    "print(\"Исходный тип данных Series:\")\n",
    "print(series.dtype)\n",
    "\n",
    "# Преобразуем тип данных в category\n",
    "series_category = series.astype('category')\n",
    "\n",
    "# Определяем тип данных преобразованной Series\n",
    "print(\"\\nТип данных Series после преобразования в 'category':\")\n",
    "print(series_category.dtype)\n"
   ]
  }
 ],
 "metadata": {
  "kernelspec": {
   "display_name": "Python 3 (ipykernel)",
   "language": "python",
   "name": "python3"
  },
  "language_info": {
   "codemirror_mode": {
    "name": "ipython",
    "version": 3
   },
   "file_extension": ".py",
   "mimetype": "text/x-python",
   "name": "python",
   "nbconvert_exporter": "python",
   "pygments_lexer": "ipython3",
   "version": "3.12.7"
  }
 },
 "nbformat": 4,
 "nbformat_minor": 5
}
