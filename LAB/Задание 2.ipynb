{
 "cells": [
  {
   "cell_type": "code",
   "execution_count": 1,
   "id": "0b6d3df0-c205-41b8-b18b-391adca0001f",
   "metadata": {},
   "outputs": [
    {
     "name": "stdout",
     "output_type": "stream",
     "text": [
      "Элемент с индексом 'C' (используя .loc): 36\n",
      "Третий элемент (используя .iloc): 36\n"
     ]
    }
   ],
   "source": [
    "import pandas as pd\n",
    "\n",
    "# Создаем Series с указанными индексами и значениями\n",
    "data = [12, 24, 36, 48, 60]\n",
    "index = ['A', 'B', 'C', 'D', 'E']\n",
    "series = pd.Series(data, index=index)\n",
    "\n",
    "# Используем .loc для получения элемента с индексом 'C'\n",
    "element_loc = series.loc['C']\n",
    "print(f\"Элемент с индексом 'C' (используя .loc): {element_loc}\")\n",
    "\n",
    "# Используем .iloc для получения третьего элемента (индекс 2)\n",
    "element_iloc = series.iloc[2]\n",
    "print(f\"Третий элемент (используя .iloc): {element_iloc}\")\n"
   ]
  }
 ],
 "metadata": {
  "kernelspec": {
   "display_name": "Python 3 (ipykernel)",
   "language": "python",
   "name": "python3"
  },
  "language_info": {
   "codemirror_mode": {
    "name": "ipython",
    "version": 3
   },
   "file_extension": ".py",
   "mimetype": "text/x-python",
   "name": "python",
   "nbconvert_exporter": "python",
   "pygments_lexer": "ipython3",
   "version": "3.12.7"
  }
 },
 "nbformat": 4,
 "nbformat_minor": 5
}
