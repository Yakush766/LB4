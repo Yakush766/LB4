{
 "cells": [
  {
   "cell_type": "code",
   "execution_count": 1,
   "id": "9771076e-95ab-473b-a3e3-6bf25a0d575e",
   "metadata": {},
   "outputs": [
    {
     "name": "stdout",
     "output_type": "stream",
     "text": [
      "Сумма: 2094\n",
      "Среднее значение: 104.7\n",
      "Минимальное значение: 54\n",
      "Максимальное значение: 149\n",
      "Стандартное отклонение: 29.263053767327044\n"
     ]
    }
   ],
   "source": [
    "import pandas as pd\n",
    "import numpy as np\n",
    "\n",
    "# Создаем Series из 20 случайных чисел от 50 до 150 (включительно)\n",
    "data = np.random.randint(50, 151, 20) # От 50 (включительно) до 151 (не включительно)\n",
    "series = pd.Series(data)\n",
    "\n",
    "# Находим сумму\n",
    "series_sum = series.sum()\n",
    "print(f\"Сумма: {series_sum}\")\n",
    "\n",
    "# Находим среднее значение\n",
    "series_mean = series.mean()\n",
    "print(f\"Среднее значение: {series_mean}\")\n",
    "\n",
    "# Находим минимальное значение\n",
    "series_min = series.min()\n",
    "print(f\"Минимальное значение: {series_min}\")\n",
    "\n",
    "# Находим максимальное значение\n",
    "series_max = series.max()\n",
    "print(f\"Максимальное значение: {series_max}\")\n",
    "\n",
    "# Находим стандартное отклонение\n",
    "series_std = series.std()\n",
    "print(f\"Стандартное отклонение: {series_std}\")\n"
   ]
  }
 ],
 "metadata": {
  "kernelspec": {
   "display_name": "Python 3 (ipykernel)",
   "language": "python",
   "name": "python3"
  },
  "language_info": {
   "codemirror_mode": {
    "name": "ipython",
    "version": 3
   },
   "file_extension": ".py",
   "mimetype": "text/x-python",
   "name": "python",
   "nbconvert_exporter": "python",
   "pygments_lexer": "ipython3",
   "version": "3.12.7"
  }
 },
 "nbformat": 4,
 "nbformat_minor": 5
}
