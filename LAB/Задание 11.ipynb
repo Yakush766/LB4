{
 "cells": [
  {
   "cell_type": "code",
   "execution_count": 1,
   "id": "7edde5fe-0f57-42aa-a65f-73fe4210b9ce",
   "metadata": {},
   "outputs": [
    {
     "name": "stdout",
     "output_type": "stream",
     "text": [
      "Данные за 5-8 марта:\n",
      "2024-03-05    64\n",
      "2024-03-06    55\n",
      "2024-03-07    16\n",
      "2024-03-08    12\n",
      "Freq: D, dtype: int32\n"
     ]
    }
   ],
   "source": [
    "import pandas as pd\n",
    "import numpy as np\n",
    "\n",
    "# Создаем Series с датами в качестве индексов и случайными числами в качестве значений\n",
    "dates = pd.date_range(start='2024-03-01', periods=10, freq='D')\n",
    "data = np.random.randint(10, 101, 10)  # От 10 (включительно) до 101 (не включительно)\n",
    "series = pd.Series(data, index=dates)\n",
    "\n",
    "# Выбираем данные за 5-8 марта\n",
    "selected_data = series['2024-03-05':'2024-03-08']\n",
    "\n",
    "# Выводим выбранные данные\n",
    "print(\"Данные за 5-8 марта:\")\n",
    "print(selected_data)\n"
   ]
  }
 ],
 "metadata": {
  "kernelspec": {
   "display_name": "Python 3 (ipykernel)",
   "language": "python",
   "name": "python3"
  },
  "language_info": {
   "codemirror_mode": {
    "name": "ipython",
    "version": 3
   },
   "file_extension": ".py",
   "mimetype": "text/x-python",
   "name": "python",
   "nbconvert_exporter": "python",
   "pygments_lexer": "ipython3",
   "version": "3.12.7"
  }
 },
 "nbformat": 4,
 "nbformat_minor": 5
}
