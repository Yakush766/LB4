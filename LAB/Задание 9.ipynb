{
 "cells": [
  {
   "cell_type": "code",
   "execution_count": 1,
   "id": "191405ee-4a93-4fc5-b2e2-174036d8e9be",
   "metadata": {},
   "outputs": [
    {
     "name": "stdout",
     "output_type": "stream",
     "text": [
      "Series после применения функции вычисления квадратного корня:\n",
      "0    1.414214\n",
      "1    2.000000\n",
      "2    2.449490\n",
      "3    2.828427\n",
      "4    3.162278\n",
      "dtype: float64\n"
     ]
    }
   ],
   "source": [
    "import pandas as pd\n",
    "import numpy as np\n",
    "\n",
    "# Создаем Series из чисел\n",
    "data = [2, 4, 6, 8, 10]\n",
    "series = pd.Series(data)\n",
    "\n",
    "# Применяем функцию вычисления квадратного корня к каждому элементу\n",
    "sqrt_series = series.apply(np.sqrt)\n",
    "\n",
    "# Выводим результат\n",
    "print(\"Series после применения функции вычисления квадратного корня:\")\n",
    "print(sqrt_series)\n"
   ]
  }
 ],
 "metadata": {
  "kernelspec": {
   "display_name": "Python 3 (ipykernel)",
   "language": "python",
   "name": "python3"
  },
  "language_info": {
   "codemirror_mode": {
    "name": "ipython",
    "version": 3
   },
   "file_extension": ".py",
   "mimetype": "text/x-python",
   "name": "python",
   "nbconvert_exporter": "python",
   "pygments_lexer": "ipython3",
   "version": "3.12.7"
  }
 },
 "nbformat": 4,
 "nbformat_minor": 5
}
