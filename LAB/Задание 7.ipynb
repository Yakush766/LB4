{
 "cells": [
  {
   "cell_type": "code",
   "execution_count": 1,
   "id": "fce6bc6a-2d26-4ff7-b255-43f329256de7",
   "metadata": {},
   "outputs": [
    {
     "name": "stdout",
     "output_type": "stream",
     "text": [
      "Series после заполнения NaN средним значением:\n",
      "0    1.20\n",
      "1    4.25\n",
      "2    3.40\n",
      "3    4.25\n",
      "4    5.60\n",
      "5    6.80\n",
      "dtype: float64\n"
     ]
    }
   ],
   "source": [
    "import pandas as pd\n",
    "import numpy as np\n",
    "\n",
    "# Создаем Series с данными, содержащими пропущенные значения (np.nan)\n",
    "data = [1.2, np.nan, 3.4, np.nan, 5.6, 6.8]\n",
    "series = pd.Series(data)\n",
    "\n",
    "# Вычисляем среднее значение всех непустых элементов\n",
    "mean_value = series.mean()\n",
    "\n",
    "# Заполняем все NaN значения средним значением\n",
    "filled_series = series.fillna(mean_value)\n",
    "\n",
    "# Выводим результат\n",
    "print(\"Series после заполнения NaN средним значением:\")\n",
    "print(filled_series)\n"
   ]
  }
 ],
 "metadata": {
  "kernelspec": {
   "display_name": "Python 3 (ipykernel)",
   "language": "python",
   "name": "python3"
  },
  "language_info": {
   "codemirror_mode": {
    "name": "ipython",
    "version": 3
   },
   "file_extension": ".py",
   "mimetype": "text/x-python",
   "name": "python",
   "nbconvert_exporter": "python",
   "pygments_lexer": "ipython3",
   "version": "3.12.7"
  }
 },
 "nbformat": 4,
 "nbformat_minor": 5
}
