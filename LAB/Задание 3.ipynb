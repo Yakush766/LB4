{
 "cells": [
  {
   "cell_type": "code",
   "execution_count": 1,
   "id": "27d70755-e577-4789-b434-474dc9bef7bf",
   "metadata": {},
   "outputs": [
    {
     "name": "stdout",
     "output_type": "stream",
     "text": [
      "3    25\n",
      "4    36\n",
      "5    49\n",
      "6    64\n",
      "dtype: int32\n"
     ]
    }
   ],
   "source": [
    "import pandas as pd\n",
    "import numpy as np\n",
    "\n",
    "# Создаем Series из массива NumPy\n",
    "data = np.array([4, 9, 16, 25, 36, 49, 64])\n",
    "series = pd.Series(data)\n",
    "\n",
    "# Используем логическую индексацию для выбора элементов, которые больше 20\n",
    "filtered_series = series[series > 20]\n",
    "\n",
    "# Выводим отфильтрованный Series\n",
    "print(filtered_series)\n"
   ]
  }
 ],
 "metadata": {
  "kernelspec": {
   "display_name": "Python 3 (ipykernel)",
   "language": "python",
   "name": "python3"
  },
  "language_info": {
   "codemirror_mode": {
    "name": "ipython",
    "version": 3
   },
   "file_extension": ".py",
   "mimetype": "text/x-python",
   "name": "python",
   "nbconvert_exporter": "python",
   "pygments_lexer": "ipython3",
   "version": "3.12.7"
  }
 },
 "nbformat": 4,
 "nbformat_minor": 5
}
