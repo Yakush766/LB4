{
 "cells": [
  {
   "cell_type": "code",
   "execution_count": 1,
   "id": "a605cd73-babf-47ff-b735-4f231cdc6bc4",
   "metadata": {},
   "outputs": [
    {
     "name": "stdout",
     "output_type": "stream",
     "text": [
      "Результат сложения:\n",
      "a     NaN\n",
      "b    25.0\n",
      "c    45.0\n",
      "d    65.0\n",
      "e     NaN\n",
      "dtype: float64\n",
      "\n",
      "Результат после замены NaN на 0:\n",
      "a     0.0\n",
      "b    25.0\n",
      "c    45.0\n",
      "d    65.0\n",
      "e     0.0\n",
      "dtype: float64\n",
      "\n",
      "Объяснение:\n",
      "NaN появляются в результате сложения Series, когда индексы не совпадают.\n",
      "В таких случаях pandas не может найти соответствующее значение для сложения,\n",
      "и в результате получается NaN.\n"
     ]
    }
   ],
   "source": [
    "import pandas as pd\n",
    "\n",
    "# Создаем два Series\n",
    "s1 = pd.Series([10, 20, 30, 40], index=['a', 'b', 'c', 'd'])\n",
    "s2 = pd.Series([5, 15, 25, 35], index=['b', 'c', 'd', 'e'])\n",
    "\n",
    "# Выполняем сложение s1 + s2\n",
    "result = s1 + s2\n",
    "\n",
    "# Выводим результат\n",
    "print(\"Результат сложения:\")\n",
    "print(result)\n",
    "\n",
    "# Заменяем NaN на 0\n",
    "result_filled = result.fillna(0)\n",
    "\n",
    "# Выводим результат после замены NaN\n",
    "print(\"\\nРезультат после замены NaN на 0:\")\n",
    "print(result_filled)\n",
    "\n",
    "# Объяснение появления NaN\n",
    "print(\"\\nОбъяснение:\")\n",
    "print(\"NaN появляются в результате сложения Series, когда индексы не совпадают.\")\n",
    "print(\"В таких случаях pandas не может найти соответствующее значение для сложения,\")\n",
    "print(\"и в результате получается NaN.\")\n"
   ]
  }
 ],
 "metadata": {
  "kernelspec": {
   "display_name": "Python 3 (ipykernel)",
   "language": "python",
   "name": "python3"
  },
  "language_info": {
   "codemirror_mode": {
    "name": "ipython",
    "version": 3
   },
   "file_extension": ".py",
   "mimetype": "text/x-python",
   "name": "python",
   "nbconvert_exporter": "python",
   "pygments_lexer": "ipython3",
   "version": "3.12.7"
  }
 },
 "nbformat": 4,
 "nbformat_minor": 5
}
