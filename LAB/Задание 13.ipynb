{
 "cells": [
  {
   "cell_type": "code",
   "execution_count": 1,
   "id": "b8b2f712-eaf2-47f3-9d89-f5ef65df921c",
   "metadata": {},
   "outputs": [
    {
     "name": "stdout",
     "output_type": "stream",
     "text": [
      "Тип данных индекса:\n",
      "datetime64[ns]\n",
      "\n",
      "Series с DatetimeIndex:\n",
      "2024-03-10    100\n",
      "2024-03-11    200\n",
      "2024-03-12    300\n",
      "dtype: int64\n"
     ]
    }
   ],
   "source": [
    "import pandas as pd\n",
    "\n",
    "# Создаем Series с индексами в виде строк дат\n",
    "dates = ['2024-03-10', '2024-03-11', '2024-03-12']\n",
    "data = [100, 200, 300]\n",
    "series = pd.Series(data, index=dates)\n",
    "\n",
    "# Преобразуем индексы в DatetimeIndex\n",
    "series.index = pd.to_datetime(series.index)\n",
    "\n",
    "# Выводим тип данных индекса\n",
    "print(\"Тип данных индекса:\")\n",
    "print(series.index.dtype)\n",
    "\n",
    "# Выводим Series с DatetimeIndex\n",
    "print(\"\\nSeries с DatetimeIndex:\")\n",
    "print(series)\n"
   ]
  }
 ],
 "metadata": {
  "kernelspec": {
   "display_name": "Python 3 (ipykernel)",
   "language": "python",
   "name": "python3"
  },
  "language_info": {
   "codemirror_mode": {
    "name": "ipython",
    "version": 3
   },
   "file_extension": ".py",
   "mimetype": "text/x-python",
   "name": "python",
   "nbconvert_exporter": "python",
   "pygments_lexer": "ipython3",
   "version": "3.12.7"
  }
 },
 "nbformat": 4,
 "nbformat_minor": 5
}
