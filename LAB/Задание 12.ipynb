{
 "cells": [
  {
   "cell_type": "code",
   "execution_count": 1,
   "id": "285863bc-e2fb-499e-bb47-2f5fa9423fd8",
   "metadata": {},
   "outputs": [
    {
     "name": "stdout",
     "output_type": "stream",
     "text": [
      "Индексы не уникальны.\n",
      "\n",
      "Сгруппированная Series с суммированными значениями:\n",
      "A    40\n",
      "B    80\n",
      "C    40\n",
      "D    50\n",
      "dtype: int64\n"
     ]
    }
   ],
   "source": [
    "import pandas as pd\n",
    "\n",
    "# Создаем Series с повторяющимися индексами\n",
    "index = ['A', 'B', 'A', 'C', 'D', 'B']\n",
    "data = [10, 20, 30, 40, 50, 60]\n",
    "series = pd.Series(data, index=index)\n",
    "\n",
    "# Проверяем уникальность индексов\n",
    "if series.index.is_unique:\n",
    "    print(\"Индексы уникальны.\")\n",
    "else:\n",
    "    print(\"Индексы не уникальны.\")\n",
    "\n",
    "    # Группируем повторяющиеся индексы и суммируем их значения\n",
    "    grouped_series = series.groupby(series.index).sum()\n",
    "\n",
    "    # Выводим сгруппированную Series\n",
    "    print(\"\\nСгруппированная Series с суммированными значениями:\")\n",
    "    print(grouped_series)\n"
   ]
  }
 ],
 "metadata": {
  "kernelspec": {
   "display_name": "Python 3 (ipykernel)",
   "language": "python",
   "name": "python3"
  },
  "language_info": {
   "codemirror_mode": {
    "name": "ipython",
    "version": 3
   },
   "file_extension": ".py",
   "mimetype": "text/x-python",
   "name": "python",
   "nbconvert_exporter": "python",
   "pygments_lexer": "ipython3",
   "version": "3.12.7"
  }
 },
 "nbformat": 4,
 "nbformat_minor": 5
}
